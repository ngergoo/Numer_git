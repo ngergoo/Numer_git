{
 "cells": [
  {
   "cell_type": "code",
   "execution_count": 1,
   "metadata": {
    "collapsed": true
   },
   "outputs": [],
   "source": [
    "# Load libraries\n",
    "import pandas as pd\n",
    "import numpy as np"
   ]
  },
  {
   "cell_type": "markdown",
   "metadata": {},
   "source": [
    "\n",
    "# Feature engineering"
   ]
  },
  {
   "cell_type": "markdown",
   "metadata": {},
   "source": [
    "----------\n",
    "# FE_V1\n",
    "\n",
    "Original dataset, with basic statistics"
   ]
  },
  {
   "cell_type": "code",
   "execution_count": 2,
   "metadata": {
    "collapsed": true
   },
   "outputs": [],
   "source": [
    "# Load original data\n",
    "train = pd.read_csv('CleanData/numerai_training_data.csv')\n",
    "test = pd.read_csv('CleanData/numerai_tournament_data.csv')\n",
    "\n",
    "# separate target column from test set \n",
    "train_y = pd.DataFrame(train.target)\n",
    "train_y.reset_index(drop=True, inplace=True)\n",
    "train.drop('target', axis=1, inplace=True)\n",
    "\n",
    "# separate t_id from test set\n",
    "t_id = pd.DataFrame(test.t_id)\n",
    "t_id.reset_index(drop=True, inplace=True)\n",
    "test.drop('t_id', axis=1, inplace=True)\n",
    "\n",
    "# write out t_id and train_y dataframes\n",
    "pd.DataFrame.to_csv(train_y, 'Data/train_y.csv', index=False)\n",
    "pd.DataFrame.to_csv(t_id, 'Data/t_id.csv', index=False)\n",
    "\n",
    "# Calculate FE_v1 statistics: \n",
    "train['feature_mean'] = train.iloc[:,0:21].mean(axis = 1)\n",
    "train['feature_median'] = train.iloc[:,0:21].median(axis = 1)\n",
    "train['feature_sum'] = train.iloc[:,0:21].sum(axis = 1)\n",
    "train['feature_sd'] = train.iloc[:,0:21].std(axis = 1)\n",
    "train['feature_min'] = train.iloc[:,0:21].min(axis = 1)\n",
    "train['feature_max'] = train.iloc[:,0:21].max(axis = 1)\n",
    "\n",
    "test['feature_mean'] = test.iloc[:,0:21].mean(axis = 1)\n",
    "test['feature_median'] = test.iloc[:,0:21].median(axis = 1)\n",
    "test['feature_sum'] = test.iloc[:,0:21].sum(axis = 1)\n",
    "test['feature_sd'] = test.iloc[:,0:21].std(axis = 1)\n",
    "test['feature_min'] = test.iloc[:,0:21].min(axis = 1)\n",
    "test['feature_max'] = test.iloc[:,0:21].max(axis = 1)"
   ]
  },
  {
   "cell_type": "code",
   "execution_count": 3,
   "metadata": {
    "collapsed": true
   },
   "outputs": [],
   "source": [
    "# Write out train and test files, and add t_id to test set\n",
    "test = pd.concat([t_id, test], axis=1)\n",
    "pd.DataFrame.to_csv(train, 'Data/FE_v1_train.csv', index=False)\n",
    "pd.DataFrame.to_csv(test, 'Data/FE_v1_test.csv', index=False)"
   ]
  },
  {
   "cell_type": "code",
   "execution_count": null,
   "metadata": {
    "collapsed": true
   },
   "outputs": [],
   "source": []
  }
 ],
 "metadata": {
  "kernelspec": {
   "display_name": "Python 2",
   "language": "python",
   "name": "python2"
  },
  "language_info": {
   "codemirror_mode": {
    "name": "ipython",
    "version": 2
   },
   "file_extension": ".py",
   "mimetype": "text/x-python",
   "name": "python",
   "nbconvert_exporter": "python",
   "pygments_lexer": "ipython2",
   "version": "2.7.11"
  }
 },
 "nbformat": 4,
 "nbformat_minor": 0
}
