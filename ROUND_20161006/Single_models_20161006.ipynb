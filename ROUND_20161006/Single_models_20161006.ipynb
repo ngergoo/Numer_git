{
 "cells": [
  {
   "cell_type": "code",
   "execution_count": 110,
   "metadata": {
    "collapsed": false
   },
   "outputs": [],
   "source": [
    "import pandas as pd\n",
    "import numpy as np\n",
    "\n",
    "from sklearn import ensemble\n",
    "from sklearn.grid_search import RandomizedSearchCV\n",
    "\n",
    "from matplotlib import pyplot as plt\n",
    "%matplotlib inline"
   ]
  },
  {
   "cell_type": "markdown",
   "metadata": {},
   "source": [
    "\n",
    "# RF_v1_FE_v2\n",
    "\n",
    "Model: \n",
    "Previously best performing RandomFores model, which did not have the best LB score, but made the highest amount of money so far, it's origin is on ROUND_20160811\n",
    "\n",
    "Data: \n",
    "Polynomial feature engineering, with degree=2 + basic stats, using feature engineered variables. Original data is included. "
   ]
  },
  {
   "cell_type": "code",
   "execution_count": 76,
   "metadata": {
    "collapsed": false
   },
   "outputs": [],
   "source": [
    "# Load data\n",
    "train = pd.read_csv('Data/FE_v2_train.csv')\n",
    "test = pd.read_csv('Data/FE_v2_test.csv')\n",
    "train_y = pd.read_csv('Data/train_y.csv')\n",
    "submission = pd.read_csv('CleanData/example_predictions.csv')\n",
    "\n",
    "# Set models\n",
    "params_rf = {'oob_score': True, \n",
    "             'n_jobs': 4, \n",
    "             'verbose': 0, \n",
    "             'min_samples_leaf': 10, \n",
    "             'n_estimators': 250, \n",
    "             'max_features': 50, \n",
    "             'random_state': 42, \n",
    "             'criterion': 'gini', \n",
    "             'min_samples_split': 5, \n",
    "             'max_depth': 5\n",
    "            }\n",
    "model_rf = ensemble.RandomForestClassifier(**params_rf)\n",
    "\n",
    "# Fit model, and make predictions\n",
    "model_rf.fit(train, train_y.target)\n",
    "predictions = model_rf.predict_proba(test.iloc[:,1:])\n",
    "\n",
    "submission.probability = predictions[:,1]"
   ]
  },
  {
   "cell_type": "code",
   "execution_count": 4,
   "metadata": {
    "collapsed": true
   },
   "outputs": [],
   "source": [
    "pd.DataFrame.to_csv(submission, 'Submissions/RFv1_FEv2.csv', index=False)"
   ]
  },
  {
   "cell_type": "markdown",
   "metadata": {},
   "source": [
    "# Logloss Score: 0.69080\n",
    "\n",
    "## Metamodel rank when uploaded: 93\n",
    "\n",
    "# Best performing model so far\n",
    "\n",
    "Metarank when last time checked: 98 (this is still the best performing model)"
   ]
  },
  {
   "cell_type": "markdown",
   "metadata": {},
   "source": [
    "# Feature importance"
   ]
  },
  {
   "cell_type": "code",
   "execution_count": 60,
   "metadata": {
    "collapsed": false
   },
   "outputs": [
    {
     "data": {
      "text/plain": [
       "<matplotlib.lines.Line2D at 0x7f2e95977f50>"
      ]
     },
     "execution_count": 60,
     "metadata": {},
     "output_type": "execute_result"
    },
    {
     "data": {
      "image/png": "[encoded data removed]",
      "text/plain": [
       "<matplotlib.figure.Figure at 0x7f2e962d3310>"
      ]
     },
     "metadata": {},
     "output_type": "display_data"
    }
   ],
   "source": [
    "fig = plt.figure()\n",
    "fig.set_size_inches(15,5)\n",
    "plt.yticks(color='grey')\n",
    "plt.xticks(color='grey')\n",
    "plt.title('Feature importance of single RF model', color='grey')\n",
    "\n",
    "temp = model_rf.feature_importances_\n",
    "\n",
    "plt.plot(temp, 'o')\n",
    "plt.axhline(model_rf.feature_importances_.mean(), color='red', linewidth=3)"
   ]
  },
  {
   "cell_type": "code",
   "execution_count": 61,
   "metadata": {
    "collapsed": false
   },
   "outputs": [
    {
     "data": {
      "text/plain": [
       "0.22784810126582278"
      ]
     },
     "execution_count": 61,
     "metadata": {},
     "output_type": "execute_result"
    }
   ],
   "source": [
    "len(temp[temp > temp.mean()]) / float(len(temp))"
   ]
  },
  {
   "cell_type": "markdown",
   "metadata": {},
   "source": [
    "Let's try to drop all the variables below the importance's mean, set a new train and test dataset, and run the previous (same) model once again. \n",
    "\n",
    "It would be nice to cross validate it, but I'll just check out LB score. If it helped, I'll check the CV score. "
   ]
  },
  {
   "cell_type": "code",
   "execution_count": 68,
   "metadata": {
    "collapsed": false
   },
   "outputs": [],
   "source": [
    "# keep variables above the mean only\n",
    "test_tid = pd.DataFrame(test.t_id)\n",
    "test.drop('t_id', axis=1, inplace=True)\n",
    "test = test.loc[:, temp>temp.mean()]\n",
    "test = pd.concat([test_tid, test], axis=1)\n",
    "\n",
    "train = train.loc[:, temp>temp.mean()]"
   ]
  },
  {
   "cell_type": "code",
   "execution_count": 72,
   "metadata": {
    "collapsed": true
   },
   "outputs": [],
   "source": [
    "# Set models\n",
    "params_rf = {'oob_score': True, \n",
    "             'n_jobs': 4, \n",
    "             'verbose': 0, \n",
    "             'min_samples_leaf': 10, \n",
    "             'n_estimators': 250, \n",
    "             'max_features': 50, \n",
    "             'random_state': 42, \n",
    "             'criterion': 'gini', \n",
    "             'min_samples_split': 5, \n",
    "             'max_depth': 5\n",
    "            }\n",
    "model_rf = ensemble.RandomForestClassifier(**params_rf)\n",
    "\n",
    "# Fit model, and make predictions\n",
    "model_rf.fit(train, train_y.target)\n",
    "predictions = model_rf.predict_proba(test.iloc[:,1:])\n",
    "\n",
    "submission.probability = predictions[:,1]"
   ]
  },
  {
   "cell_type": "code",
   "execution_count": 73,
   "metadata": {
    "collapsed": true
   },
   "outputs": [],
   "source": [
    "pd.DataFrame.to_csv(submission, 'Submissions/RFv1_FEv2_imp_v1.csv', index=False)"
   ]
  },
  {
   "cell_type": "code",
   "execution_count": 75,
   "metadata": {
    "collapsed": false
   },
   "outputs": [
    {
     "data": {
      "text/plain": [
       "<matplotlib.lines.Line2D at 0x7f2e957ece50>"
      ]
     },
     "execution_count": 75,
     "metadata": {},
     "output_type": "execute_result"
    },
    {
     "data": {
      "image/png": "[encoded data removed]",
      "text/plain": [
       "<matplotlib.figure.Figure at 0x7f2e958d8fd0>"
      ]
     },
     "metadata": {},
     "output_type": "display_data"
    }
   ],
   "source": [
    "fig = plt.figure()\n",
    "fig.set_size_inches(15,5)\n",
    "plt.yticks(color='grey')\n",
    "plt.xticks(color='grey')\n",
    "plt.title('Feature importance of single RF model', color='grey')\n",
    "\n",
    "temp = model_rf.feature_importances_\n",
    "\n",
    "plt.plot(temp, 'o')\n",
    "plt.axhline(model_rf.feature_importances_.mean(), color='red', linewidth=3)"
   ]
  },
  {
   "cell_type": "markdown",
   "metadata": {},
   "source": [
    "# Logloss Score: 0.69082\n",
    "\n",
    "## Metamodel rank when uploaded: 94\n",
    "\n",
    "So this is unfortunately doesn't work. The weird part is that the feature importance shows that there is only two important features. \n",
    "\n",
    "Let's try something more drastic, let's keep the top20 of the features: to reproduce it, I need to re-fit RF_v1_FE_v2, and after need to get the 20th value, and the filter on the features. \n",
    "\n",
    "After having top 20 features, I'll do a grid search. "
   ]
  },
  {
   "cell_type": "code",
   "execution_count": 101,
   "metadata": {
    "collapsed": false
   },
   "outputs": [],
   "source": [
    "a = np.sort(np.array(model_rf.feature_importances_))[-20]\n",
    "\n",
    "# keep variables above the mean only\n",
    "test_tid = pd.DataFrame(test.t_id)\n",
    "test.drop('t_id', axis=1, inplace=True)\n",
    "test = test.loc[:,model_rf.feature_importances_ >= a]\n",
    "test = pd.concat([test_tid, test], axis=1)\n",
    "\n",
    "train = train.loc[:,model_rf.feature_importances_ >= a]"
   ]
  },
  {
   "cell_type": "code",
   "execution_count": 105,
   "metadata": {
    "collapsed": true
   },
   "outputs": [],
   "source": [
    "# Determine parameters\n",
    "params_rf = {'n_jobs':[2], \n",
    "             'criterion':['gini', 'entropy'],\n",
    "             'n_estimators':[100,250,500,1000,1500,2000], \n",
    "             'max_features':[1,2,5,7,10,15,20], \n",
    "             'max_depth':[1,5,10], \n",
    "             'min_samples_split':[1,5,10], \n",
    "             'min_samples_leaf':[1,5,10], \n",
    "             'oob_score':[True, False], \n",
    "             'verbose' : [0], \n",
    "             'random_state':[42]\n",
    "            }\n",
    "\n",
    "# Determine estimator models: \n",
    "model_rf = ensemble.RandomForestClassifier()"
   ]
  },
  {
   "cell_type": "code",
   "execution_count": 116,
   "metadata": {
    "collapsed": false
   },
   "outputs": [
    {
     "name": "stdout",
     "output_type": "stream",
     "text": [
      "Fitting 5 folds for each of 10 candidates, totalling 50 fits\n"
     ]
    },
    {
     "name": "stderr",
     "output_type": "stream",
     "text": [
      "[Parallel(n_jobs=4)]: Done  42 tasks      | elapsed: 54.1min\n",
      "[Parallel(n_jobs=4)]: Done  50 out of  50 | elapsed: 60.6min finished\n"
     ]
    },
    {
     "data": {
      "text/plain": [
       "RandomizedSearchCV(cv=5, error_score='raise',\n",
       "          estimator=RandomForestClassifier(bootstrap=True, class_weight=None, criterion='gini',\n",
       "            max_depth=None, max_features='auto', max_leaf_nodes=None,\n",
       "            min_samples_leaf=1, min_samples_split=2,\n",
       "            min_weight_fraction_leaf=0.0, n_estimators=10, n_jobs=1,\n",
       "            oob_score=False, random_state=None, verbose=0,\n",
       "            warm_start=False),\n",
       "          fit_params={}, iid=True, n_iter=10, n_jobs=4,\n",
       "          param_distributions={'n_estimators': [100, 250, 500, 1000, 1500, 2000], 'min_samples_split': [1, 5, 10], 'oob_score': [True, False], 'n_jobs': [2], 'criterion': ['gini', 'entropy'], 'verbose': [0], 'max_features': [1, 2, 5, 7, 10, 15, 20], 'random_state': [42], 'max_depth': [1, 5, 10], 'min_samples_leaf': [1, 5, 10]},\n",
       "          pre_dispatch='2*n_jobs', random_state=None, refit=True,\n",
       "          scoring='log_loss', verbose=1)"
      ]
     },
     "execution_count": 116,
     "metadata": {},
     "output_type": "execute_result"
    }
   ],
   "source": [
    "grid_rf = RandomizedSearchCV(estimator=model_rf, \n",
    "                             param_distributions=params_rf, \n",
    "                             n_jobs=4, \n",
    "                             cv=5, \n",
    "                             refit=True, \n",
    "                             verbose=1, \n",
    "                             scoring='log_loss')\n",
    "\n",
    "grid_rf.fit(train, train_y.target)"
   ]
  },
  {
   "cell_type": "code",
   "execution_count": 118,
   "metadata": {
    "collapsed": false
   },
   "outputs": [
    {
     "name": "stdout",
     "output_type": "stream",
     "text": [
      "{'oob_score': False, 'n_jobs': 2, 'verbose': 0, 'min_samples_leaf': 10, 'n_estimators': 1000, 'max_features': 5, 'random_state': 42, 'criterion': 'gini', 'min_samples_split': 10, 'max_depth': 5}\n",
      "-0.691626719877\n"
     ]
    }
   ],
   "source": [
    "print grid_rf.best_params_\n",
    "print grid_rf.best_score_"
   ]
  },
  {
   "cell_type": "code",
   "execution_count": 121,
   "metadata": {
    "collapsed": true
   },
   "outputs": [],
   "source": [
    "# Set models\n",
    "params_rf = {'oob_score': False, \n",
    "             'n_jobs': 4, \n",
    "             'verbose': 0, \n",
    "             'min_samples_leaf': 10, \n",
    "             'n_estimators': 1000, \n",
    "             'max_features': 5, \n",
    "             'random_state': 42, \n",
    "             'criterion': 'gini', \n",
    "             'min_samples_split': 10, \n",
    "             'max_depth': 5\n",
    "            }\n",
    "model_rf = ensemble.RandomForestClassifier(**params_rf)\n",
    "\n",
    "# Fit model, and make predictions\n",
    "model_rf.fit(train, train_y.target)\n",
    "predictions = model_rf.predict_proba(test.iloc[:,1:])\n",
    "\n",
    "submission.probability = predictions[:,1]"
   ]
  },
  {
   "cell_type": "code",
   "execution_count": 122,
   "metadata": {
    "collapsed": true
   },
   "outputs": [],
   "source": [
    "pd.DataFrame.to_csv(submission, 'Submissions/RFv1_FEv2_imp_v1_grid.csv', index=False)"
   ]
  },
  {
   "cell_type": "markdown",
   "metadata": {},
   "source": [
    "# Logloss score: 0.69079\n",
    "\n",
    "# Metamodel rank when uploaded: 102\n",
    "\n",
    "A tiny bit better than the previous best solution. "
   ]
  },
  {
   "cell_type": "markdown",
   "metadata": {},
   "source": [
    "----------\n",
    "## Feature importance v2 \n",
    "\n",
    "Let's try to use correlation and feature importance. \n",
    "\n",
    "Calculate correlation matrix, and get the feature pairs with the highest correlation. From these pairs drop the ones with lowes feature importance. \n"
   ]
  },
  {
   "cell_type": "code",
   "execution_count": 128,
   "metadata": {
    "collapsed": false
   },
   "outputs": [
    {
     "data": {
      "text/plain": [
       "RandomForestClassifier(bootstrap=True, class_weight=None, criterion='gini',\n",
       "            max_depth=5, max_features=50, max_leaf_nodes=None,\n",
       "            min_samples_leaf=10, min_samples_split=5,\n",
       "            min_weight_fraction_leaf=0.0, n_estimators=250, n_jobs=4,\n",
       "            oob_score=True, random_state=42, verbose=0, warm_start=False)"
      ]
     },
     "execution_count": 128,
     "metadata": {},
     "output_type": "execute_result"
    }
   ],
   "source": [
    "# Load data\n",
    "train = pd.read_csv('Data/FE_v2_train.csv')\n",
    "test = pd.read_csv('Data/FE_v2_test.csv')\n",
    "train_y = pd.read_csv('Data/train_y.csv')\n",
    "submission = pd.read_csv('CleanData/example_predictions.csv')\n",
    "\n",
    "# Set models\n",
    "params_rf = {'oob_score': True, \n",
    "             'n_jobs': 4, \n",
    "             'verbose': 0, \n",
    "             'min_samples_leaf': 10, \n",
    "             'n_estimators': 250, \n",
    "             'max_features': 50, \n",
    "             'random_state': 42, \n",
    "             'criterion': 'gini', \n",
    "             'min_samples_split': 5, \n",
    "             'max_depth': 5\n",
    "            }\n",
    "model_rf = ensemble.RandomForestClassifier(**params_rf)\n",
    "\n",
    "# Fit model, and make predictions\n",
    "model_rf.fit(train, train_y.target)"
   ]
  },
  {
   "cell_type": "code",
   "execution_count": 130,
   "metadata": {
    "collapsed": false
   },
   "outputs": [],
   "source": [
    "imp = model_rf.feature_importances_\n",
    "correl = train.corr()"
   ]
  },
  {
   "cell_type": "code",
   "execution_count": 144,
   "metadata": {
    "collapsed": false
   },
   "outputs": [
    {
     "name": "stdout",
     "output_type": "stream",
     "text": [
      "0   -0.596387\n",
      "dtype: float64\n"
     ]
    }
   ],
   "source": [
    "print pd.DataFrame(correl.min(axis=1)).min(axis=0)"
   ]
  },
  {
   "cell_type": "markdown",
   "metadata": {},
   "source": [
    "There is no highly negative correlation in the correlation matrix"
   ]
  },
  {
   "cell_type": "code",
   "execution_count": null,
   "metadata": {
    "collapsed": false
   },
   "outputs": [],
   "source": []
  },
  {
   "cell_type": "code",
   "execution_count": 152,
   "metadata": {
    "collapsed": false
   },
   "outputs": [],
   "source": [
    "for i in range(0,len(correl.columns)): \n",
    "    correl.iloc[i,i] = 0"
   ]
  },
  {
   "cell_type": "code",
   "execution_count": 187,
   "metadata": {
    "collapsed": false
   },
   "outputs": [
    {
     "data": {
      "text/plain": [
       "feature_mean    1\n",
       "Name: feature_sum, dtype: float64"
      ]
     },
     "execution_count": 187,
     "metadata": {},
     "output_type": "execute_result"
    }
   ],
   "source": [
    "correl.feature_sum[correl.feature_sum == max(correl.feature_sum)]"
   ]
  },
  {
   "cell_type": "code",
   "execution_count": 189,
   "metadata": {
    "collapsed": false
   },
   "outputs": [
    {
     "data": {
      "text/plain": [
       "0.99999999999998712"
      ]
     },
     "execution_count": 189,
     "metadata": {},
     "output_type": "execute_result"
    }
   ],
   "source": [
    "correl.loc['feature_sum', 'feature_mean']"
   ]
  },
  {
   "cell_type": "code",
   "execution_count": 185,
   "metadata": {
    "collapsed": false
   },
   "outputs": [
    {
     "data": {
      "text/plain": [
       "'feature_sum'"
      ]
     },
     "execution_count": 185,
     "metadata": {},
     "output_type": "execute_result"
    }
   ],
   "source": [
    "max(correl.idxmax())"
   ]
  },
  {
   "cell_type": "code",
   "execution_count": 156,
   "metadata": {
    "collapsed": false
   },
   "outputs": [
    {
     "ename": "ValueError",
     "evalue": "Cannot index with multidimensional key",
     "output_type": "error",
     "traceback": [
      "\u001b[1;31m---------------------------------------------------------------------------\u001b[0m",
      "\u001b[1;31mValueError\u001b[0m                                Traceback (most recent call last)",
      "\u001b[1;32m<ipython-input-156-1c858e688400>\u001b[0m in \u001b[0;36m<module>\u001b[1;34m()\u001b[0m\n\u001b[1;32m----> 1\u001b[1;33m \u001b[0mcorrel\u001b[0m\u001b[1;33m.\u001b[0m\u001b[0mloc\u001b[0m\u001b[1;33m[\u001b[0m\u001b[0mcorrel\u001b[0m \u001b[1;33m==\u001b[0m \u001b[0mpd\u001b[0m\u001b[1;33m.\u001b[0m\u001b[0mDataFrame\u001b[0m\u001b[1;33m(\u001b[0m\u001b[0mcorrel\u001b[0m\u001b[1;33m.\u001b[0m\u001b[0mmax\u001b[0m\u001b[1;33m(\u001b[0m\u001b[0maxis\u001b[0m\u001b[1;33m=\u001b[0m\u001b[1;36m1\u001b[0m\u001b[1;33m)\u001b[0m\u001b[1;33m)\u001b[0m\u001b[1;33m.\u001b[0m\u001b[0mmax\u001b[0m\u001b[1;33m(\u001b[0m\u001b[0maxis\u001b[0m\u001b[1;33m=\u001b[0m\u001b[1;36m0\u001b[0m\u001b[1;33m)\u001b[0m\u001b[1;33m]\u001b[0m\u001b[1;33m\u001b[0m\u001b[0m\n\u001b[0m",
      "\u001b[1;32m/home/ngergoo/anaconda2/lib/python2.7/site-packages/pandas/core/indexing.pyc\u001b[0m in \u001b[0;36m__getitem__\u001b[1;34m(self, key)\u001b[0m\n\u001b[0;32m   1225\u001b[0m             \u001b[1;32mreturn\u001b[0m \u001b[0mself\u001b[0m\u001b[1;33m.\u001b[0m\u001b[0m_getitem_tuple\u001b[0m\u001b[1;33m(\u001b[0m\u001b[0mkey\u001b[0m\u001b[1;33m)\u001b[0m\u001b[1;33m\u001b[0m\u001b[0m\n\u001b[0;32m   1226\u001b[0m         \u001b[1;32melse\u001b[0m\u001b[1;33m:\u001b[0m\u001b[1;33m\u001b[0m\u001b[0m\n\u001b[1;32m-> 1227\u001b[1;33m             \u001b[1;32mreturn\u001b[0m \u001b[0mself\u001b[0m\u001b[1;33m.\u001b[0m\u001b[0m_getitem_axis\u001b[0m\u001b[1;33m(\u001b[0m\u001b[0mkey\u001b[0m\u001b[1;33m,\u001b[0m \u001b[0maxis\u001b[0m\u001b[1;33m=\u001b[0m\u001b[1;36m0\u001b[0m\u001b[1;33m)\u001b[0m\u001b[1;33m\u001b[0m\u001b[0m\n\u001b[0m\u001b[0;32m   1228\u001b[0m \u001b[1;33m\u001b[0m\u001b[0m\n\u001b[0;32m   1229\u001b[0m     \u001b[1;32mdef\u001b[0m \u001b[0m_getitem_axis\u001b[0m\u001b[1;33m(\u001b[0m\u001b[0mself\u001b[0m\u001b[1;33m,\u001b[0m \u001b[0mkey\u001b[0m\u001b[1;33m,\u001b[0m \u001b[0maxis\u001b[0m\u001b[1;33m=\u001b[0m\u001b[1;36m0\u001b[0m\u001b[1;33m)\u001b[0m\u001b[1;33m:\u001b[0m\u001b[1;33m\u001b[0m\u001b[0m\n",
      "\u001b[1;32m/home/ngergoo/anaconda2/lib/python2.7/site-packages/pandas/core/indexing.pyc\u001b[0m in \u001b[0;36m_getitem_axis\u001b[1;34m(self, key, axis)\u001b[0m\n\u001b[0;32m   1357\u001b[0m \u001b[1;33m\u001b[0m\u001b[0m\n\u001b[0;32m   1358\u001b[0m                 \u001b[1;32mif\u001b[0m \u001b[0mhasattr\u001b[0m\u001b[1;33m(\u001b[0m\u001b[0mkey\u001b[0m\u001b[1;33m,\u001b[0m \u001b[1;34m'ndim'\u001b[0m\u001b[1;33m)\u001b[0m \u001b[1;32mand\u001b[0m \u001b[0mkey\u001b[0m\u001b[1;33m.\u001b[0m\u001b[0mndim\u001b[0m \u001b[1;33m>\u001b[0m \u001b[1;36m1\u001b[0m\u001b[1;33m:\u001b[0m\u001b[1;33m\u001b[0m\u001b[0m\n\u001b[1;32m-> 1359\u001b[1;33m                     \u001b[1;32mraise\u001b[0m \u001b[0mValueError\u001b[0m\u001b[1;33m(\u001b[0m\u001b[1;34m'Cannot index with multidimensional key'\u001b[0m\u001b[1;33m)\u001b[0m\u001b[1;33m\u001b[0m\u001b[0m\n\u001b[0m\u001b[0;32m   1360\u001b[0m \u001b[1;33m\u001b[0m\u001b[0m\n\u001b[0;32m   1361\u001b[0m                 \u001b[1;32mreturn\u001b[0m \u001b[0mself\u001b[0m\u001b[1;33m.\u001b[0m\u001b[0m_getitem_iterable\u001b[0m\u001b[1;33m(\u001b[0m\u001b[0mkey\u001b[0m\u001b[1;33m,\u001b[0m \u001b[0maxis\u001b[0m\u001b[1;33m=\u001b[0m\u001b[0maxis\u001b[0m\u001b[1;33m)\u001b[0m\u001b[1;33m\u001b[0m\u001b[0m\n",
      "\u001b[1;31mValueError\u001b[0m: Cannot index with multidimensional key"
     ]
    }
   ],
   "source": [
    "correl.loc[correl == pd.DataFrame(correl.max(axis=1)).max(axis=0)]"
   ]
  },
  {
   "cell_type": "code",
   "execution_count": null,
   "metadata": {
    "collapsed": true
   },
   "outputs": [],
   "source": []
  }
 ],
 "metadata": {
  "kernelspec": {
   "display_name": "Python 2",
   "language": "python",
   "name": "python2"
  },
  "language_info": {
   "codemirror_mode": {
    "name": "ipython",
    "version": 2
   },
   "file_extension": ".py",
   "mimetype": "text/x-python",
   "name": "python",
   "nbconvert_exporter": "python",
   "pygments_lexer": "ipython2",
   "version": "2.7.11"
  }
 },
 "nbformat": 4,
 "nbformat_minor": 0
}
